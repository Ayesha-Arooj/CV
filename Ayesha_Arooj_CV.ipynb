{
 "cells": [
  {
   "cell_type": "markdown",
   "id": "2a2bb603",
   "metadata": {},
   "source": [
    "<H1 style=\"text-align: center;\">Ayesha Arooj</H1>"
   ]
  },
  {
   "cell_type": "markdown",
   "id": "eed41a8c",
   "metadata": {},
   "source": [
    "<H3 style=\"text-align: center;\">Email:ayeshaarooj.da@gmail.com</H3>"
   ]
  },
 {
   "cell_type": "markdown",
   "id": "c2605f54",
   "metadata": {},
   "source": [
    "<H3 style=\"text-align: center;\">Portfolio:<a>https://github.com/Ayesha-Arooj/</a></H3>"
   ]
  },
{
   "cell_type": "markdown",
   "id": "c2605f54",
   "metadata": {},
   "source": [
    "<H3 style=\"text-align: center;\">Linkedin:<a>https://www.linkedin.com/in/ayesha-arooj-dataanalyst/</a></H3>"
   ]
  },
  {
   "cell_type": "markdown",
   "id": "28fa6221",
   "metadata": {},
   "source": [
    "## Education\n",
    "-------------------------------------------------------------------------------------------------------------------------------"
   ]
  },
  {
   "cell_type": "markdown",
   "id": "e745e524",
   "metadata": {},
   "source": [
    "<h4 style=\"font-style: italic; flex: 1;text-align: left; margin: 0;\">University of Punjab &emsp;&emsp;&emsp;&emsp; 2023 - Continue</h4>"
   ]
  },
  {
   "cell_type": "markdown",
   "id": "c6d957da",
   "metadata": {},
   "source": [
    "- Master's of Philosophy in Data Science"
   ]
  },
  {
   "cell_type": "markdown",
   "id": "17c8f2bc",
   "metadata": {},
   "source": [
    "<h4 style=\"font-style: italic; flex: 1;text-align: left; margin: 0;\">University of Education &emsp;&emsp;&emsp;&emsp; 2019 - 2021</h4>"
   ]
  },
  {
   "cell_type": "markdown",
   "id": "ceae42fb",
   "metadata": {},
   "source": [
    "- Master's of Science in Informatin Technology\n",
    "- 3.56 / 4.00 GPA"
   ]
  },
  {
   "cell_type": "markdown",
   "id": "335a7a87",
   "metadata": {},
   "source": [
    "<h4 style=\"font-style: italic; flex: 1;text-align: left; margin: 0;\">University of Punjab &emsp;&emsp;&emsp;&emsp;&emsp; 2016 - 2018</h4>"
   ]
  },
  {
   "cell_type": "markdown",
   "id": "edabc8f6",
   "metadata": {},
   "source": [
    "- Bachelor's of Science in Informatin Technology\n",
    "- 3.35 / 4.00 GPA"
   ]
  },
  {
   "cell_type": "markdown",
   "id": "737e2754",
   "metadata": {},
   "source": [
    "## Professional Experience\n",
    "-------------------------------------"
   ]
  },
  {
   "cell_type": "markdown",
   "id": "cffe8790",
   "metadata": {},
   "source": [
    "### Pioneer Growth Equity, Dallas, Tx"
   ]
  },
  {
   "cell_type": "markdown",
   "id": "b8328071",
   "metadata": {},
   "source": [
    "#### *Data Miner* &emsp; &emsp; &emsp;&emsp;  Aug - 23 - Continue"
   ]
  },
  {
   "cell_type": "markdown",
   "id": "06942688",
   "metadata": {},
   "source": [
    "- Perform data mining and analysis\n",
    "- Utilize SQL for complex data set analysis\n",
    "- Develop interactive dashboards in Power BI and Google Spreadsheets\n",
    "- Effectively manage data for informed decisions\n",
    "- Ensure precise data transformation\n",
    "- Extract valuable insights from Data\n",
    "- ollaborate effectively with cross-functional teams"
   ]
  },
  {
   "cell_type": "markdown",
   "id": "1535adf3",
   "metadata": {},
   "source": [
    "### Govt. Islamia College Railway Road, Lahore"
   ]
  },
  {
   "cell_type": "markdown",
   "id": "8c998792",
   "metadata": {},
   "source": [
    "#### *CTI Computer Science* &emsp; &emsp; &emsp;&emsp;  Nov- 21 - Jun 22"
   ]
  },
  {
   "cell_type": "markdown",
   "id": "e0e6e398",
   "metadata": {},
   "source": [
    "- Taught programing Languages, Web Development and Database. \n",
    "- Effective communicator for presenting complex data insights.\n",
    "- Strong written and verbal communication abilities.\n",
    "- Skilled in conveying technical concepts to non-technical stakeholders."
   ]
  },
  {
   "cell_type": "markdown",
   "id": "0e1613b3",
   "metadata": {},
   "source": [
    "## Honors and Awards\n",
    "______________________________________________________________________________________________________________________________"
   ]
  },
  {
   "cell_type": "markdown",
   "id": "9265bdc5",
   "metadata": {},
   "source": [
    "### Certification"
   ]
  },
  {
   "cell_type": "markdown",
   "id": "c7ae3fab",
   "metadata": {},
   "source": [
    "- **Coursera:** [Google Data Analytics Professional Certificate](https://www.coursera.org/account/accomplishments/specialization/certificate/YLCYADKEN9BZ)\n",
    "- **Udemy:** [Data Visualisation with Powerbi](https://www.udemy.com/certificate/UC-ec909a3c-0acb-4175-b2ae-6b69b16f3ce8/)\n",
    "- **Udemy:** [Python - Data Analytics Real World Hands on Project](https://www.udemy.com/certificate/UC-5093f4a6-a383-4f8a-89c5-c8f09f6393de/)\n",
    "- **Udemy:** [Data Analytics with Excel Pivot Tables](https://www.udemy.com/certificate/UC-d3319b58-71d0-43fc-96a8-d5d34371bac7/)\n",
    "- **Udemy:** [Sql programming Essentials immersive Training](https://www.udemy.com/certificate/UC-681b7ac8-e3b7-47bc-b1a4-10cf7fcfa098/)\n"
   ]
  },
  {
   "cell_type": "markdown",
   "id": "72d83a87",
   "metadata": {},
   "source": [
    "### Award"
   ]
  },
  {
   "cell_type": "markdown",
   "id": "25b0b9e0",
   "metadata": {},
   "source": [
    "- **Gold Medalist:** Bachelor of Science in Information Technology"
   ]
  },
  {
   "cell_type": "markdown",
   "id": "06e4ba30",
   "metadata": {},
   "source": [
    "## Additional\n",
    "------------------------------------------------------------------------------------------------------------------------------"
   ]
  },
  {
   "cell_type": "markdown",
   "id": "4fcfb5cf",
   "metadata": {},
   "source": [
    "**Technical Skills:** SQL, PowerBI, Python, Database, Microsoft Excel, Google BigQuery, Salesforce\\\n",
    "**Language:** Urdu, English"
   ]
  }
 ],
 "metadata": {
  "kernelspec": {
   "display_name": "Python 3 (ipykernel)",
   "language": "python",
   "name": "python3"
  },
  "language_info": {
   "codemirror_mode": {
    "name": "ipython",
    "version": 3
   },
   "file_extension": ".py",
   "mimetype": "text/x-python",
   "name": "python",
   "nbconvert_exporter": "python",
   "pygments_lexer": "ipython3",
   "version": "3.11.5"
  }
 },
 "nbformat": 4,
 "nbformat_minor": 5
}
